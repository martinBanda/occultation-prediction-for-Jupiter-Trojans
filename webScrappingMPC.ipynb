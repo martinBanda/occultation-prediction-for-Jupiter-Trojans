{
 "cells": [
  {
   "cell_type": "markdown",
   "id": "843b70a0-fc87-46d2-8ee0-c1c24f166823",
   "metadata": {},
   "source": [
    "# **Get a ascii file with the list of Jupiter Trojans registered in MPC**"
   ]
  },
  {
   "cell_type": "code",
   "execution_count": 1,
   "id": "e8808818-a699-41de-88f3-ca1288a7e826",
   "metadata": {
    "tags": []
   },
   "outputs": [],
   "source": [
    "from datetime import datetime as dt\n",
    "from bs4 import BeautifulSoup\n",
    "import requests"
   ]
  },
  {
   "cell_type": "markdown",
   "id": "dc01606e-efc2-4fe9-8520-dbdfe3cf05cd",
   "metadata": {
    "tags": []
   },
   "source": [
    "### **Get html page with the information about Jupiter Trojans**"
   ]
  },
  {
   "cell_type": "code",
   "execution_count": 2,
   "id": "3387351e-7276-4522-af7e-d1ccd5b1b6b0",
   "metadata": {
    "tags": []
   },
   "outputs": [
    {
     "name": "stdout",
     "output_type": "stream",
     "text": [
      "Request time:  0:00:02.823533\n"
     ]
    }
   ],
   "source": [
    "#url = \"https://www.minorplanetcenter.net/iau/lists/t_jupitertrojans.html\"\n",
    "url = \"https://www.minorplanetcenter.net/iau/lists/JupiterTrojans.html\"\n",
    "\n",
    "t0 = dt.now()\n",
    "html = requests.get(url).content\n",
    "soup = BeautifulSoup(html, 'html.parser')\n",
    "tf = dt.now()\n",
    "\n",
    "#print(soup.prettify())\n",
    "print('Request time: ', tf - t0)"
   ]
  },
  {
   "cell_type": "markdown",
   "id": "ce78da32-f8ea-4dba-9752-6f97485c88ef",
   "metadata": {},
   "source": [
    "### **Get query execution date in MPC**"
   ]
  },
  {
   "cell_type": "code",
   "execution_count": 3,
   "id": "be387b76-914d-4c06-99e3-66d78ec315d4",
   "metadata": {
    "tags": []
   },
   "outputs": [
    {
     "name": "stdout",
     "output_type": "stream",
     "text": [
      "This query was execute on: 2024-02-07\n"
     ]
    }
   ],
   "source": [
    "query_date = dt.now().strftime('%Y-%m-%d')\n",
    "print('This query was execute on:', query_date)"
   ]
  },
  {
   "cell_type": "markdown",
   "id": "d2cc12ee-1b8a-46cd-83e9-a5abc2951d86",
   "metadata": {},
   "source": [
    "### **Searching the date of the last MPC DB update**"
   ]
  },
  {
   "cell_type": "code",
   "execution_count": 4,
   "id": "43e9a546-dbaf-4619-bce8-286e83fe2036",
   "metadata": {},
   "outputs": [
    {
     "name": "stdout",
     "output_type": "stream",
     "text": [
      "This list was last updated on: 2023-11-30\n"
     ]
    }
   ],
   "source": [
    "try:\n",
    "    line_with_date = soup.p.text.splitlines()[3]\n",
    "    \n",
    "    last_update = line_with_date[30:-1].replace('.','')\n",
    "\n",
    "    last_update_dt = dt.strptime(last_update, '%Y %b %d')\n",
    "    update_date = last_update_dt.strftime('%Y-%m-%d')\n",
    "except:\n",
    "    print(\"Could not get update date\")\n",
    "    print(\"The query date will be used\")\n",
    "    update_date = queryDate\n",
    "\n",
    "print('This list was last updated on:', update_date)"
   ]
  },
  {
   "cell_type": "code",
   "execution_count": 7,
   "id": "b57611bc-694e-4fe1-ae7d-86a62d86278e",
   "metadata": {
    "tags": []
   },
   "outputs": [],
   "source": [
    "### **Save the list of Trojans to a ascii file**"
   ]
  },
  {
   "cell_type": "code",
   "execution_count": 6,
   "id": "49adc3e0-3ebe-4cbd-b599-a34af37479f5",
   "metadata": {
    "tags": []
   },
   "outputs": [],
   "source": [
    "outFilename = 'listTrojans' + update_date + '.txt'\n",
    "\n",
    "with open(outFilename, 'w') as outFile:\n",
    "    outFile.writelines(soup.pre.text[1:-1].replace('\\n\\n','\\n'))"
   ]
  },
  {
   "cell_type": "code",
   "execution_count": null,
   "id": "86b72ef3-b150-4611-bb3f-b30d98ef848a",
   "metadata": {},
   "outputs": [],
   "source": []
  }
 ],
 "metadata": {
  "kernelspec": {
   "display_name": "Python 3 (ipykernel)",
   "language": "python",
   "name": "python3"
  },
  "language_info": {
   "codemirror_mode": {
    "name": "ipython",
    "version": 3
   },
   "file_extension": ".py",
   "mimetype": "text/x-python",
   "name": "python",
   "nbconvert_exporter": "python",
   "pygments_lexer": "ipython3",
   "version": "3.7.16"
  }
 },
 "nbformat": 4,
 "nbformat_minor": 5
}
